{
 "cells": [
  {
   "cell_type": "code",
   "execution_count": 3,
   "id": "0237e22d-77b4-47f0-bb74-39338ccd6637",
   "metadata": {},
   "outputs": [],
   "source": [
    "import pandas as pd\n",
    "import matplotlib.pyplot as plt\n",
    "import seaborn as sns"
   ]
  },
  {
   "cell_type": "code",
   "execution_count": 6,
   "id": "23c9fe87-c450-40e7-bdd2-8745317ab220",
   "metadata": {},
   "outputs": [],
   "source": [
    "data = pd.read_csv('content/Product_data_bmGokul1.csv')"
   ]
  },
  {
   "cell_type": "code",
   "execution_count": 7,
   "id": "d1c3f719-2813-42d3-ab2b-e95cf5d0156f",
   "metadata": {},
   "outputs": [
    {
     "data": {
      "text/html": [
       "<div>\n",
       "<style scoped>\n",
       "    .dataframe tbody tr th:only-of-type {\n",
       "        vertical-align: middle;\n",
       "    }\n",
       "\n",
       "    .dataframe tbody tr th {\n",
       "        vertical-align: top;\n",
       "    }\n",
       "\n",
       "    .dataframe thead th {\n",
       "        text-align: right;\n",
       "    }\n",
       "</style>\n",
       "<table border=\"1\" class=\"dataframe\">\n",
       "  <thead>\n",
       "    <tr style=\"text-align: right;\">\n",
       "      <th></th>\n",
       "      <th>ID</th>\n",
       "      <th>FAT</th>\n",
       "      <th>SNF</th>\n",
       "      <th>Rate</th>\n",
       "      <th>ChartId</th>\n",
       "      <th>RateDate</th>\n",
       "      <th>Type</th>\n",
       "      <th>CurrentChart</th>\n",
       "      <th>RateChartName</th>\n",
       "    </tr>\n",
       "  </thead>\n",
       "  <tbody>\n",
       "    <tr>\n",
       "      <th>0</th>\n",
       "      <td>337</td>\n",
       "      <td>5.1</td>\n",
       "      <td>8.1</td>\n",
       "      <td>24.9</td>\n",
       "      <td>2</td>\n",
       "      <td>2017-04-01</td>\n",
       "      <td>BM Rate</td>\n",
       "      <td>0</td>\n",
       "      <td>Gokul1</td>\n",
       "    </tr>\n",
       "    <tr>\n",
       "      <th>1</th>\n",
       "      <td>338</td>\n",
       "      <td>5.1</td>\n",
       "      <td>8.2</td>\n",
       "      <td>25.9</td>\n",
       "      <td>2</td>\n",
       "      <td>2017-04-01</td>\n",
       "      <td>BM Rate</td>\n",
       "      <td>0</td>\n",
       "      <td>Gokul1</td>\n",
       "    </tr>\n",
       "    <tr>\n",
       "      <th>2</th>\n",
       "      <td>339</td>\n",
       "      <td>5.1</td>\n",
       "      <td>8.3</td>\n",
       "      <td>26.9</td>\n",
       "      <td>2</td>\n",
       "      <td>2017-04-01</td>\n",
       "      <td>BM Rate</td>\n",
       "      <td>0</td>\n",
       "      <td>Gokul1</td>\n",
       "    </tr>\n",
       "    <tr>\n",
       "      <th>3</th>\n",
       "      <td>340</td>\n",
       "      <td>5.1</td>\n",
       "      <td>8.4</td>\n",
       "      <td>27.9</td>\n",
       "      <td>2</td>\n",
       "      <td>2017-04-01</td>\n",
       "      <td>BM Rate</td>\n",
       "      <td>0</td>\n",
       "      <td>Gokul1</td>\n",
       "    </tr>\n",
       "    <tr>\n",
       "      <th>4</th>\n",
       "      <td>341</td>\n",
       "      <td>5.1</td>\n",
       "      <td>8.5</td>\n",
       "      <td>28.9</td>\n",
       "      <td>2</td>\n",
       "      <td>2017-04-01</td>\n",
       "      <td>BM Rate</td>\n",
       "      <td>0</td>\n",
       "      <td>Gokul1</td>\n",
       "    </tr>\n",
       "  </tbody>\n",
       "</table>\n",
       "</div>"
      ],
      "text/plain": [
       "    ID  FAT  SNF  Rate  ChartId    RateDate        Type  CurrentChart   \n",
       "0  337  5.1  8.1  24.9        2  2017-04-01  BM Rate                0  \\\n",
       "1  338  5.1  8.2  25.9        2  2017-04-01  BM Rate                0   \n",
       "2  339  5.1  8.3  26.9        2  2017-04-01  BM Rate                0   \n",
       "3  340  5.1  8.4  27.9        2  2017-04-01  BM Rate                0   \n",
       "4  341  5.1  8.5  28.9        2  2017-04-01  BM Rate                0   \n",
       "\n",
       "  RateChartName  \n",
       "0        Gokul1  \n",
       "1        Gokul1  \n",
       "2        Gokul1  \n",
       "3        Gokul1  \n",
       "4        Gokul1  "
      ]
     },
     "execution_count": 7,
     "metadata": {},
     "output_type": "execute_result"
    }
   ],
   "source": [
    "data.head()"
   ]
  },
  {
   "cell_type": "code",
   "execution_count": 16,
   "id": "68733956-3f09-47e7-a498-0e3f483bb645",
   "metadata": {},
   "outputs": [
    {
     "data": {
      "text/plain": [
       "(2020, 9)"
      ]
     },
     "execution_count": 16,
     "metadata": {},
     "output_type": "execute_result"
    }
   ],
   "source": [
    "data.shape"
   ]
  },
  {
   "cell_type": "code",
   "execution_count": 12,
   "id": "384fd8ea-e1ce-434d-bf8d-fc85ea3f0c65",
   "metadata": {},
   "outputs": [],
   "source": [
    "flitered_data  = data[(data['FAT'] == 3.0) & (data['SNF'] == 7.5)]"
   ]
  },
  {
   "cell_type": "code",
   "execution_count": 14,
   "id": "291b87aa-66f8-4c9a-b20c-eb733045381f",
   "metadata": {},
   "outputs": [
    {
     "data": {
      "text/html": [
       "<div>\n",
       "<style scoped>\n",
       "    .dataframe tbody tr th:only-of-type {\n",
       "        vertical-align: middle;\n",
       "    }\n",
       "\n",
       "    .dataframe tbody tr th {\n",
       "        vertical-align: top;\n",
       "    }\n",
       "\n",
       "    .dataframe thead th {\n",
       "        text-align: right;\n",
       "    }\n",
       "</style>\n",
       "<table border=\"1\" class=\"dataframe\">\n",
       "  <thead>\n",
       "    <tr style=\"text-align: right;\">\n",
       "      <th></th>\n",
       "      <th>ID</th>\n",
       "      <th>FAT</th>\n",
       "      <th>SNF</th>\n",
       "      <th>Rate</th>\n",
       "      <th>ChartId</th>\n",
       "      <th>RateDate</th>\n",
       "      <th>Type</th>\n",
       "      <th>CurrentChart</th>\n",
       "      <th>RateChartName</th>\n",
       "    </tr>\n",
       "  </thead>\n",
       "  <tbody>\n",
       "  </tbody>\n",
       "</table>\n",
       "</div>"
      ],
      "text/plain": [
       "Empty DataFrame\n",
       "Columns: [ID, FAT, SNF, Rate, ChartId, RateDate, Type, CurrentChart, RateChartName]\n",
       "Index: []"
      ]
     },
     "execution_count": 14,
     "metadata": {},
     "output_type": "execute_result"
    }
   ],
   "source": [
    "flitered_data.head()"
   ]
  },
  {
   "cell_type": "code",
   "execution_count": 18,
   "id": "10eab5ff-cb8f-4c99-b5aa-413e573e3000",
   "metadata": {},
   "outputs": [
    {
     "name": "stdout",
     "output_type": "stream",
     "text": [
      "[ 5.0999999   5.19999981  5.30000019  5.4000001   5.5         5.5999999\n",
      "  5.69999981  5.80000019  5.9000001   6.          6.0999999   6.19999981\n",
      "  6.30000019  6.4000001   6.5         6.5999999   6.69999981  6.80000019\n",
      "  6.9000001   7.          7.0999999   7.19999981  7.30000019  7.4000001\n",
      "  7.5         7.5999999   7.69999981  7.80000019  7.9000001   8.\n",
      "  8.10000038  8.19999981  8.30000019  8.39999962  8.5         8.60000038\n",
      "  8.69999981  8.80000019  8.89999962  9.          9.10000038  9.19999981\n",
      "  9.30000019  9.39999962  9.5         9.60000038  9.69999981  9.80000019\n",
      "  9.89999962 10.        ]\n"
     ]
    }
   ],
   "source": [
    "#It's possible there are leading or trailing whitespaces\n",
    "#first check the unique values in the 'Type' column to see \n",
    "unique_types = data['FAT'].unique()\n",
    "print(unique_types)"
   ]
  },
  {
   "cell_type": "code",
   "execution_count": null,
   "id": "0d5e105c-8c11-4c86-94c1-b3e502079087",
   "metadata": {},
   "outputs": [],
   "source": []
  }
 ],
 "metadata": {
  "kernelspec": {
   "display_name": "Python 3 (ipykernel)",
   "language": "python",
   "name": "python3"
  },
  "language_info": {
   "codemirror_mode": {
    "name": "ipython",
    "version": 3
   },
   "file_extension": ".py",
   "mimetype": "text/x-python",
   "name": "python",
   "nbconvert_exporter": "python",
   "pygments_lexer": "ipython3",
   "version": "3.11.4"
  }
 },
 "nbformat": 4,
 "nbformat_minor": 5
}
