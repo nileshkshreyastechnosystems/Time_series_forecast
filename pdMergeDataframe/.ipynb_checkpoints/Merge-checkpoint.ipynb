{
 "cells": [
  {
   "cell_type": "markdown",
   "id": "94b22418-8582-48a2-8d92-619d9052054e",
   "metadata": {},
   "source": [
    "Merge Two DataFrame Using Pandas"
   ]
  },
  {
   "cell_type": "code",
   "execution_count": 11,
   "id": "2abf2f94-2d0e-4427-8586-151cf2958a64",
   "metadata": {},
   "outputs": [],
   "source": [
    "#Library\n",
    "import pandas as pd\n",
    "import warnings"
   ]
  },
  {
   "cell_type": "code",
   "execution_count": 12,
   "id": "3bbef83a-8fb1-4918-aa8d-274c85dc64b9",
   "metadata": {},
   "outputs": [],
   "source": [
    "warnings.simplefilter(\"ignore\")"
   ]
  },
  {
   "cell_type": "code",
   "execution_count": 13,
   "id": "b9e541fe-1c83-4611-a116-fcadb227b233",
   "metadata": {},
   "outputs": [
    {
     "name": "stdout",
     "output_type": "stream",
     "text": [
      "   ID  FAT  SNF  Rate  ChartId\n",
      "0   1  3.0  7.5  14.4        1\n",
      "1   2  3.0  7.6  15.4        1\n",
      "2   3  3.0  7.7  16.4        1\n",
      "3   4  3.0  7.8  17.4        1\n",
      "4   5  3.0  7.9  18.4        1\n"
     ]
    }
   ],
   "source": [
    "#file path address \n",
    "file_path1 =\"content/RateChartDetails.xlsx\"\n",
    "\n",
    "#created DataFrame df1\n",
    "df1 = pd.read_excel(file_path1)\n",
    "\n",
    "print(df1.head())"
   ]
  },
  {
   "cell_type": "code",
   "execution_count": 14,
   "id": "a70f5790-a2ca-45b0-ad3a-d88edc255bee",
   "metadata": {},
   "outputs": [
    {
     "name": "stdout",
     "output_type": "stream",
     "text": [
      "   ChartId   RateDate        Type  CurrentChart RateChartName\n",
      "0        1 2017-04-01  CM Rate                0        Gokul1\n",
      "1        2 2017-04-01  BM Rate                0        Gokul1\n",
      "2        3 2017-06-21  CM Rate                0        Gokul1\n",
      "3        4 2017-09-01  CM Rate                0      Mangsuli\n",
      "4        5 2017-09-01  BM Rate                0      Mangsuli\n"
     ]
    }
   ],
   "source": [
    "file_path2 = \"content/RateChartMaster.xlsx\"\n",
    "\n",
    "df2 = pd.read_excel(file_path2)\n",
    "\n",
    "print(df2.head())"
   ]
  },
  {
   "cell_type": "code",
   "execution_count": 15,
   "id": "d9cb9a0e-2296-487e-a91e-1ba5b4672c59",
   "metadata": {},
   "outputs": [],
   "source": [
    "data = pd.merge(df1, df2, on=\"ChartId\")"
   ]
  },
  {
   "cell_type": "code",
   "execution_count": 16,
   "id": "91dc13d3-a71d-49de-8308-0bf456e55010",
   "metadata": {},
   "outputs": [
    {
     "data": {
      "text/html": [
       "<div>\n",
       "<style scoped>\n",
       "    .dataframe tbody tr th:only-of-type {\n",
       "        vertical-align: middle;\n",
       "    }\n",
       "\n",
       "    .dataframe tbody tr th {\n",
       "        vertical-align: top;\n",
       "    }\n",
       "\n",
       "    .dataframe thead th {\n",
       "        text-align: right;\n",
       "    }\n",
       "</style>\n",
       "<table border=\"1\" class=\"dataframe\">\n",
       "  <thead>\n",
       "    <tr style=\"text-align: right;\">\n",
       "      <th></th>\n",
       "      <th>ID</th>\n",
       "      <th>FAT</th>\n",
       "      <th>SNF</th>\n",
       "      <th>Rate</th>\n",
       "      <th>ChartId</th>\n",
       "      <th>RateDate</th>\n",
       "      <th>Type</th>\n",
       "      <th>CurrentChart</th>\n",
       "      <th>RateChartName</th>\n",
       "    </tr>\n",
       "  </thead>\n",
       "  <tbody>\n",
       "    <tr>\n",
       "      <th>0</th>\n",
       "      <td>1</td>\n",
       "      <td>3.0</td>\n",
       "      <td>7.5</td>\n",
       "      <td>14.4</td>\n",
       "      <td>1</td>\n",
       "      <td>2017-04-01</td>\n",
       "      <td>CM Rate</td>\n",
       "      <td>0</td>\n",
       "      <td>Gokul1</td>\n",
       "    </tr>\n",
       "    <tr>\n",
       "      <th>1</th>\n",
       "      <td>2</td>\n",
       "      <td>3.0</td>\n",
       "      <td>7.6</td>\n",
       "      <td>15.4</td>\n",
       "      <td>1</td>\n",
       "      <td>2017-04-01</td>\n",
       "      <td>CM Rate</td>\n",
       "      <td>0</td>\n",
       "      <td>Gokul1</td>\n",
       "    </tr>\n",
       "    <tr>\n",
       "      <th>2</th>\n",
       "      <td>3</td>\n",
       "      <td>3.0</td>\n",
       "      <td>7.7</td>\n",
       "      <td>16.4</td>\n",
       "      <td>1</td>\n",
       "      <td>2017-04-01</td>\n",
       "      <td>CM Rate</td>\n",
       "      <td>0</td>\n",
       "      <td>Gokul1</td>\n",
       "    </tr>\n",
       "    <tr>\n",
       "      <th>3</th>\n",
       "      <td>4</td>\n",
       "      <td>3.0</td>\n",
       "      <td>7.8</td>\n",
       "      <td>17.4</td>\n",
       "      <td>1</td>\n",
       "      <td>2017-04-01</td>\n",
       "      <td>CM Rate</td>\n",
       "      <td>0</td>\n",
       "      <td>Gokul1</td>\n",
       "    </tr>\n",
       "    <tr>\n",
       "      <th>4</th>\n",
       "      <td>5</td>\n",
       "      <td>3.0</td>\n",
       "      <td>7.9</td>\n",
       "      <td>18.4</td>\n",
       "      <td>1</td>\n",
       "      <td>2017-04-01</td>\n",
       "      <td>CM Rate</td>\n",
       "      <td>0</td>\n",
       "      <td>Gokul1</td>\n",
       "    </tr>\n",
       "  </tbody>\n",
       "</table>\n",
       "</div>"
      ],
      "text/plain": [
       "   ID  FAT  SNF  Rate  ChartId   RateDate        Type  CurrentChart   \n",
       "0   1  3.0  7.5  14.4        1 2017-04-01  CM Rate                0  \\\n",
       "1   2  3.0  7.6  15.4        1 2017-04-01  CM Rate                0   \n",
       "2   3  3.0  7.7  16.4        1 2017-04-01  CM Rate                0   \n",
       "3   4  3.0  7.8  17.4        1 2017-04-01  CM Rate                0   \n",
       "4   5  3.0  7.9  18.4        1 2017-04-01  CM Rate                0   \n",
       "\n",
       "  RateChartName  \n",
       "0        Gokul1  \n",
       "1        Gokul1  \n",
       "2        Gokul1  \n",
       "3        Gokul1  \n",
       "4        Gokul1  "
      ]
     },
     "execution_count": 16,
     "metadata": {},
     "output_type": "execute_result"
    }
   ],
   "source": [
    "data.head()"
   ]
  },
  {
   "cell_type": "code",
   "execution_count": 17,
   "id": "9cd3f896-7106-4cc9-9219-5e11ef40d187",
   "metadata": {},
   "outputs": [
    {
     "name": "stdout",
     "output_type": "stream",
     "text": [
      "\n",
      "Data types:\n",
      "ID                        int64\n",
      "FAT                     float64\n",
      "SNF                     float64\n",
      "Rate                    float64\n",
      "ChartId                   int64\n",
      "RateDate         datetime64[ns]\n",
      "Type                     object\n",
      "CurrentChart              int64\n",
      "RateChartName            object\n",
      "dtype: object\n"
     ]
    }
   ],
   "source": [
    "# Check the data types of each column\n",
    "print(\"\\nData types:\")\n",
    "print(data.dtypes)"
   ]
  },
  {
   "cell_type": "code",
   "execution_count": 31,
   "id": "131ffb60-0198-4769-aa88-54dbff7d64c6",
   "metadata": {},
   "outputs": [
    {
     "name": "stdout",
     "output_type": "stream",
     "text": [
      "['CM Rate   ' 'BM Rate   ']\n"
     ]
    }
   ],
   "source": [
    "#It's possible there are leading or trailing whitespaces\n",
    "#first check the unique values in the 'Type' column to see \n",
    "unique_types = data['Type'].unique()\n",
    "print(unique_types)"
   ]
  },
  {
   "cell_type": "code",
   "execution_count": 29,
   "id": "c7c02329-d7af-4a74-a933-1036c3d1a4ad",
   "metadata": {},
   "outputs": [],
   "source": [
    "# Filter the DataFrame based on specific values in 'Type' and 'RateChartName' columns\n",
    "filtered_df = data[(data['Type'] == 'CM Rate   ') & (data['RateChartName'] == 'Gokul1')]"
   ]
  },
  {
   "cell_type": "code",
   "execution_count": 30,
   "id": "0f48b87c-3b44-4fe8-9c83-0440a9711dfc",
   "metadata": {},
   "outputs": [
    {
     "name": "stdout",
     "output_type": "stream",
     "text": [
      "          ID  FAT  SNF       Rate  ChartId   RateDate        Type   \n",
      "0          1  3.0  7.5  14.400000        1 2017-04-01  CM Rate     \\\n",
      "1          2  3.0  7.6  15.400000        1 2017-04-01  CM Rate      \n",
      "2          3  3.0  7.7  16.400000        1 2017-04-01  CM Rate      \n",
      "3          4  3.0  7.8  17.400000        1 2017-04-01  CM Rate      \n",
      "4          5  3.0  7.9  18.400000        1 2017-04-01  CM Rate      \n",
      "...      ...  ...  ...        ...      ...        ...         ...   \n",
      "28318  31618  5.9  8.1  28.969999       53 2020-05-01  CM Rate      \n",
      "28319  31619  5.9  8.2  29.969999       53 2020-05-01  CM Rate      \n",
      "28320  31620  5.9  8.3  30.969999       53 2020-05-01  CM Rate      \n",
      "28321  31621  5.9  8.4  31.969999       53 2020-05-01  CM Rate      \n",
      "28322  31622  5.9  8.5  32.970001       53 2020-05-01  CM Rate      \n",
      "\n",
      "       CurrentChart RateChartName  \n",
      "0                 0        Gokul1  \n",
      "1                 0        Gokul1  \n",
      "2                 0        Gokul1  \n",
      "3                 0        Gokul1  \n",
      "4                 0        Gokul1  \n",
      "...             ...           ...  \n",
      "28318             0        Gokul1  \n",
      "28319             0        Gokul1  \n",
      "28320             0        Gokul1  \n",
      "28321             0        Gokul1  \n",
      "28322             0        Gokul1  \n",
      "\n",
      "[2963 rows x 9 columns]\n"
     ]
    }
   ],
   "source": [
    "print(filtered_df)"
   ]
  },
  {
   "cell_type": "code",
   "execution_count": 94,
   "id": "0d9f74c5-2f75-42b3-a127-ae88559b60b5",
   "metadata": {},
   "outputs": [
    {
     "name": "stdout",
     "output_type": "stream",
     "text": [
      "Empty DataFrame\n",
      "Columns: [ID, FAT, SNF, Rate, ChartId, RateDate, Type, CurrentChart, RateChartName]\n",
      "Index: []\n"
     ]
    }
   ],
   "source": [
    "# # Filter for rows where Type is 'CM Rate' and RateChartName is 'Gokul1' (combined condition)\n",
    "# newdf = data[(data['Type'] == 'CM Rate')]\n",
    "\n",
    "# # Print the resulting DataFrame\n",
    "# print(newdf)"
   ]
  },
  {
   "cell_type": "code",
   "execution_count": 33,
   "id": "f9e7e7a7-77fc-41ef-9b18-a48054659716",
   "metadata": {},
   "outputs": [],
   "source": [
    "filtered_df.to_csv('Product_data_cmGokul1.csv', index=False)"
   ]
  },
  {
   "cell_type": "code",
   "execution_count": 34,
   "id": "fdf05546-91d4-415b-adc4-0e3f6e938f6e",
   "metadata": {},
   "outputs": [],
   "source": [
    "filtered_df2 = data[(data['Type'] == 'BM Rate   ') & (data['RateChartName'] == 'Gokul1')]"
   ]
  },
  {
   "cell_type": "code",
   "execution_count": 35,
   "id": "1e46d849-0c60-4626-a270-c6e7715431ce",
   "metadata": {},
   "outputs": [
    {
     "name": "stdout",
     "output_type": "stream",
     "text": [
      "        ID   FAT   SNF       Rate  ChartId   RateDate        Type   \n",
      "336    337   5.1   8.1  24.900000        2 2017-04-01  BM Rate     \\\n",
      "337    338   5.1   8.2  25.900000        2 2017-04-01  BM Rate      \n",
      "338    339   5.1   8.3  26.900000        2 2017-04-01  BM Rate      \n",
      "339    340   5.1   8.4  27.900000        2 2017-04-01  BM Rate      \n",
      "340    341   5.1   8.5  28.900000        2 2017-04-01  BM Rate      \n",
      "...    ...   ...   ...        ...      ...        ...         ...   \n",
      "7963  8300  10.0   9.6  51.650002       17 2018-08-01  BM Rate      \n",
      "7964  8301  10.0   9.7  51.700001       17 2018-08-01  BM Rate      \n",
      "7965  8302  10.0   9.8  51.750000       17 2018-08-01  BM Rate      \n",
      "7966  8303  10.0   9.9  51.799999       17 2018-08-01  BM Rate      \n",
      "7967  8304  10.0  10.0  51.849998       17 2018-08-01  BM Rate      \n",
      "\n",
      "      CurrentChart RateChartName  \n",
      "336              0        Gokul1  \n",
      "337              0        Gokul1  \n",
      "338              0        Gokul1  \n",
      "339              0        Gokul1  \n",
      "340              0        Gokul1  \n",
      "...            ...           ...  \n",
      "7963             1        Gokul1  \n",
      "7964             1        Gokul1  \n",
      "7965             1        Gokul1  \n",
      "7966             1        Gokul1  \n",
      "7967             1        Gokul1  \n",
      "\n",
      "[2020 rows x 9 columns]\n"
     ]
    }
   ],
   "source": [
    "print(filtered_df2)"
   ]
  },
  {
   "cell_type": "code",
   "execution_count": 36,
   "id": "a668ff2f-db55-4c3a-8c26-cfce2582c21d",
   "metadata": {},
   "outputs": [],
   "source": [
    "filtered_df2.to_csv('Product_data_bmGokul1.csv', index=False)"
   ]
  },
  {
   "cell_type": "code",
   "execution_count": null,
   "id": "f794cfce-ac3e-49cc-b6f0-e721b8eb8ce8",
   "metadata": {},
   "outputs": [],
   "source": []
  }
 ],
 "metadata": {
  "kernelspec": {
   "display_name": "Python 3 (ipykernel)",
   "language": "python",
   "name": "python3"
  },
  "language_info": {
   "codemirror_mode": {
    "name": "ipython",
    "version": 3
   },
   "file_extension": ".py",
   "mimetype": "text/x-python",
   "name": "python",
   "nbconvert_exporter": "python",
   "pygments_lexer": "ipython3",
   "version": "3.11.4"
  }
 },
 "nbformat": 4,
 "nbformat_minor": 5
}
