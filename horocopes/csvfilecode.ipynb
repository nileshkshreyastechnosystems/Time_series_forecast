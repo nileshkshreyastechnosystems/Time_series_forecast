{
 "cells": [
  {
   "cell_type": "code",
   "execution_count": 51,
   "id": "5cac7046-2e1d-48b0-8cb4-808afcbc4fd7",
   "metadata": {},
   "outputs": [],
   "source": [
    "import pandas as pd"
   ]
  },
  {
   "cell_type": "code",
   "execution_count": 52,
   "id": "4ac1df2b-1eaf-4ecf-b4af-2c5f7ba37d8a",
   "metadata": {},
   "outputs": [],
   "source": [
    "file_path = 'horoscopes.csv'"
   ]
  },
  {
   "cell_type": "code",
   "execution_count": 53,
   "id": "c8f7db99-34d7-4ee8-a34b-c886d149194a",
   "metadata": {},
   "outputs": [],
   "source": [
    "df = pd.read_csv(file_path, delimiter='|', names=[\"sr no\", \"prediction\", \"date\", \"zodiacsign\"])"
   ]
  },
  {
   "cell_type": "code",
   "execution_count": 54,
   "id": "8d13c41c-cfdf-48e5-ad52-cbfc2755f7fb",
   "metadata": {},
   "outputs": [
    {
     "data": {
      "text/html": [
       "<div>\n",
       "<style scoped>\n",
       "    .dataframe tbody tr th:only-of-type {\n",
       "        vertical-align: middle;\n",
       "    }\n",
       "\n",
       "    .dataframe tbody tr th {\n",
       "        vertical-align: top;\n",
       "    }\n",
       "\n",
       "    .dataframe thead th {\n",
       "        text-align: right;\n",
       "    }\n",
       "</style>\n",
       "<table border=\"1\" class=\"dataframe\">\n",
       "  <thead>\n",
       "    <tr style=\"text-align: right;\">\n",
       "      <th></th>\n",
       "      <th>sr no</th>\n",
       "      <th>prediction</th>\n",
       "      <th>date</th>\n",
       "      <th>zodiacsign</th>\n",
       "    </tr>\n",
       "  </thead>\n",
       "  <tbody>\n",
       "    <tr>\n",
       "      <th>0</th>\n",
       "      <td>0</td>\n",
       "      <td>You’re not the sort to play safe and even if y...</td>\n",
       "      <td>12-01-2013</td>\n",
       "      <td>aries</td>\n",
       "    </tr>\n",
       "    <tr>\n",
       "      <th>1</th>\n",
       "      <td>1</td>\n",
       "      <td>There is no such thing as something for nothin...</td>\n",
       "      <td>12-02-2013</td>\n",
       "      <td>aries</td>\n",
       "    </tr>\n",
       "    <tr>\n",
       "      <th>2</th>\n",
       "      <td>2</td>\n",
       "      <td>As the new moon falls in one of the more adven...</td>\n",
       "      <td>12-03-2013</td>\n",
       "      <td>aries</td>\n",
       "    </tr>\n",
       "    <tr>\n",
       "      <th>3</th>\n",
       "      <td>3</td>\n",
       "      <td>You will hear something amazing today but can ...</td>\n",
       "      <td>12-04-2013</td>\n",
       "      <td>aries</td>\n",
       "    </tr>\n",
       "    <tr>\n",
       "      <th>4</th>\n",
       "      <td>4</td>\n",
       "      <td>A friend or colleague you have not seen for a ...</td>\n",
       "      <td>12-05-2013</td>\n",
       "      <td>aries</td>\n",
       "    </tr>\n",
       "    <tr>\n",
       "      <th>...</th>\n",
       "      <td>...</td>\n",
       "      <td>...</td>\n",
       "      <td>...</td>\n",
       "      <td>...</td>\n",
       "    </tr>\n",
       "    <tr>\n",
       "      <th>12975</th>\n",
       "      <td>1</td>\n",
       "      <td>There is no such thing as something for nothin...</td>\n",
       "      <td>12-02-2013</td>\n",
       "      <td>Aries</td>\n",
       "    </tr>\n",
       "    <tr>\n",
       "      <th>12976</th>\n",
       "      <td>2</td>\n",
       "      <td>As the new moon falls in one of the more adven...</td>\n",
       "      <td>12-03-2013</td>\n",
       "      <td>Aries</td>\n",
       "    </tr>\n",
       "    <tr>\n",
       "      <th>12977</th>\n",
       "      <td>3</td>\n",
       "      <td>You will hear something amazing today but can ...</td>\n",
       "      <td>12-04-2013</td>\n",
       "      <td>Aries</td>\n",
       "    </tr>\n",
       "    <tr>\n",
       "      <th>12978</th>\n",
       "      <td>4</td>\n",
       "      <td>A friend or colleague you have not seen for a ...</td>\n",
       "      <td>12-05-2013</td>\n",
       "      <td>Aries</td>\n",
       "    </tr>\n",
       "    <tr>\n",
       "      <th>12979</th>\n",
       "      <td>5</td>\n",
       "      <td>You may be a nice guy by nature but most likel...</td>\n",
       "      <td>12-06-2013</td>\n",
       "      <td>Aries</td>\n",
       "    </tr>\n",
       "  </tbody>\n",
       "</table>\n",
       "<p>12980 rows × 4 columns</p>\n",
       "</div>"
      ],
      "text/plain": [
       "       sr no                                         prediction        date   \n",
       "0          0  You’re not the sort to play safe and even if y...  12-01-2013  \\\n",
       "1          1  There is no such thing as something for nothin...  12-02-2013   \n",
       "2          2  As the new moon falls in one of the more adven...  12-03-2013   \n",
       "3          3  You will hear something amazing today but can ...  12-04-2013   \n",
       "4          4  A friend or colleague you have not seen for a ...  12-05-2013   \n",
       "...      ...                                                ...         ...   \n",
       "12975      1  There is no such thing as something for nothin...  12-02-2013   \n",
       "12976      2  As the new moon falls in one of the more adven...  12-03-2013   \n",
       "12977      3  You will hear something amazing today but can ...  12-04-2013   \n",
       "12978      4  A friend or colleague you have not seen for a ...  12-05-2013   \n",
       "12979      5  You may be a nice guy by nature but most likel...  12-06-2013   \n",
       "\n",
       "      zodiacsign  \n",
       "0          aries  \n",
       "1          aries  \n",
       "2          aries  \n",
       "3          aries  \n",
       "4          aries  \n",
       "...          ...  \n",
       "12975      Aries  \n",
       "12976      Aries  \n",
       "12977      Aries  \n",
       "12978      Aries  \n",
       "12979      Aries  \n",
       "\n",
       "[12980 rows x 4 columns]"
      ]
     },
     "execution_count": 54,
     "metadata": {},
     "output_type": "execute_result"
    }
   ],
   "source": [
    "df"
   ]
  },
  {
   "cell_type": "code",
   "execution_count": 49,
   "id": "324b3f93-5783-4063-8acf-c8da2eb89a1e",
   "metadata": {},
   "outputs": [],
   "source": [
    "file_path_write = 'output.csv'"
   ]
  },
  {
   "cell_type": "code",
   "execution_count": 50,
   "id": "bb636463-f2a0-4816-9124-c41b5341b7be",
   "metadata": {},
   "outputs": [],
   "source": [
    "# Save the DataFrame as a new CSV file\n",
    "df.to_csv(file_path_write, index=False)  #index=False to exclude the index column"
   ]
  }
 ],
 "metadata": {
  "kernelspec": {
   "display_name": "Python 3 (ipykernel)",
   "language": "python",
   "name": "python3"
  },
  "language_info": {
   "codemirror_mode": {
    "name": "ipython",
    "version": 3
   },
   "file_extension": ".py",
   "mimetype": "text/x-python",
   "name": "python",
   "nbconvert_exporter": "python",
   "pygments_lexer": "ipython3",
   "version": "3.11.4"
  }
 },
 "nbformat": 4,
 "nbformat_minor": 5
}
